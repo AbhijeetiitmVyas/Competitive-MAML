{
 "cells": [
  {
   "cell_type": "markdown",
   "metadata": {},
   "source": [
    "## Competitive MAML : An algorithm to learn an initialisation that adapts to the Nash Equillibria of multiple games"
   ]
  },
  {
   "cell_type": "markdown",
   "metadata": {},
   "source": [
    "### Consider zero sum games and convex-concave functions of the form:\n",
    "    \n",
    "* $f(x,y) = (x-k)^2-(y-k)^2$\n",
    "* $f_1(x,y) = (x-k)^2-(y-k)^2+(x-k)(y-k)$\n",
    "* $f_2(x,y) = (x-k)^2*(y-k)$"
   ]
  },
  {
   "cell_type": "code",
   "execution_count": 4,
   "metadata": {},
   "outputs": [],
   "source": [
    "import numpy as np"
   ]
  },
  {
   "cell_type": "code",
   "execution_count": 5,
   "metadata": {},
   "outputs": [],
   "source": [
    "import matplotlib.pyplot as plt"
   ]
  },
  {
   "cell_type": "code",
   "execution_count": 6,
   "metadata": {},
   "outputs": [],
   "source": [
    "#f\n",
    "def oracle(x,y,k):\n",
    "    gx = 2*(x-k)\n",
    "    gy = 2*(y-k)\n",
    "    return(np.array([gx,gy]))\n",
    "#f1\n",
    "def oracle_1(x,y,k):\n",
    "    gx = 2*(x-k)+(y-k)\n",
    "    gy = 2*(y-k)-(x-k)\n",
    "    return(np.array([gx,gy]))\n",
    "\n",
    "def oracle_2(x,y,k):\n",
    "    gx = 2*(x-k)*(y-k)\n",
    "    gy = 2*(x-k)\n",
    "    return(np.array([gx,gy]))"
   ]
  },
  {
   "cell_type": "markdown",
   "metadata": {},
   "source": [
    "## Update rule for FO Competitive MAML:\n",
    "\n",
    "###    $x_{k+1/2} = x_k-\\eta_1 \\nabla_x f(x_k,y_k)$\n",
    "###    And, $x_{k+1} = x_k-\\eta_2 \\nabla_x f(x_{k+1/2},y_{k+1/2})$\n",
    "\n",
    "###    $y_{k+1/2} = y_k-\\eta_1 \\nabla_y f(x_k,y_k)$\n",
    "###    And, $y_{k+1} = y_k-\\eta_2 \\nabla_y f(x_{y+1/2},y_{k+1/2})$"
   ]
  },
  {
   "cell_type": "code",
   "execution_count": 7,
   "metadata": {},
   "outputs": [],
   "source": [
    "def FO_competitive_MAML(x,y,lr1,lr2):\n",
    "    xs = [x]\n",
    "    ys = [y]\n",
    "    for i in range(500):\n",
    "        meta_grad=0\n",
    "        for k in list_k:\n",
    "            d = np.array((x,y))-lr1*oracle(x,y,k)\n",
    "            meta_grad += oracle(d[0],d[1],k)\n",
    "        for k in list_k_1:\n",
    "            d = np.array((x,y))-lr1*oracle_1(x,y,k)\n",
    "            meta_grad += oracle_1(d[0],d[1],k)\n",
    "        for k in list_k_2:\n",
    "            d = np.array((x,y))-lr1*oracle_2(x,y,k)\n",
    "            meta_grad += oracle_2(d[0],d[1],k)*np.array([1-lr1*2*(y-k),1])\n",
    "#         return(meta_grad)\n",
    "        x,y=np.array((x,y))-lr2*meta_grad\n",
    "        xs.append(x)\n",
    "        ys.append(y)\n",
    "    return([xs,ys])"
   ]
  },
  {
   "cell_type": "code",
   "execution_count": 8,
   "metadata": {
    "scrolled": false
   },
   "outputs": [
    {
     "data": {
      "image/png": "[encoded data removed]",
      "text/plain": [
       "<Figure size 432x288 with 1 Axes>"
      ]
     },
     "metadata": {
      "needs_background": "light"
     },
     "output_type": "display_data"
    }
   ],
   "source": [
    "list_k = [1,2] \n",
    "list_k_1 = [2,3,4]\n",
    "list_k_2 = [3,3.5,4]\n",
    "\n",
    "for i in range(4):\n",
    "    for j in range(4):\n",
    "            z = FO_competitive_MAML(3+i/2,j/2,0.01,0.01)\n",
    "            plt.scatter(np.array(list_k),np.array(list_k),marker='x',color='black')\n",
    "            plt.scatter(np.array(list_k_1),np.array(list_k_1),marker='x',color='blue')\n",
    "            plt.scatter(np.array(list_k_2),np.array(list_k_2),marker='x',color='green')\n",
    "\n",
    "            plt.scatter(3+i/2,j/2,color='red')\n",
    "            plt.plot(z[0],z[1],color = 'orange')"
   ]
  },
  {
   "cell_type": "code",
   "execution_count": 9,
   "metadata": {},
   "outputs": [
    {
     "data": {
      "text/plain": [
       "(1.8740104041547847, 3.0748766107808305)"
      ]
     },
     "execution_count": 9,
     "metadata": {},
     "output_type": "execute_result"
    }
   ],
   "source": [
    "z[0][-1],z[1][-1]"
   ]
  },
  {
   "cell_type": "markdown",
   "metadata": {},
   "source": [
    "## Update rule for Competitive MAML:\n",
    "\n",
    "###    $x_{k+1/2} = x_k-\\eta_1 \\nabla_x f(x_k,y_k)$\n",
    "###    And, $x_{k+1} = x_k-\\eta_2 \\nabla_x f(x_{k+1/2},y_{k+1/2})*(I-\\eta*\\nabla^2_xf(x_k,y_k))$\n",
    "\n",
    "###    $y_{k+1/2} = y_k-\\eta_1 \\nabla_y f(x_k,y_k)$\n",
    "###    And, $y_{k+1} = y_k-\\eta_2 \\nabla_y f(x_{y+1/2},y_{k+1/2})*(I-\\eta*\\nabla^2_yf(x_k,y_k))$"
   ]
  },
  {
   "cell_type": "code",
   "execution_count": 10,
   "metadata": {},
   "outputs": [],
   "source": [
    "def Competitive_MAML(x,y,lr1,lr2):\n",
    "    xs = [x]\n",
    "    ys = [y]\n",
    "    for i in range(500):\n",
    "        meta_grad=0\n",
    "        for k in list_k:\n",
    "            d = np.array((x,y))-lr1*oracle(x,y,k)\n",
    "            meta_grad += oracle(d[0],d[1],k)*np.array([1-lr1*2,1-lr1*2])\n",
    "        for k in list_k_1:\n",
    "            d = np.array((x,y))-lr1*oracle_1(x,y,k)*np.array([1-lr1*2,1-lr1*2])\n",
    "            meta_grad += oracle_1(d[0],d[1],k)*np.array([1-lr1*2,1-lr1*2])\n",
    "        for k in list_k_2:\n",
    "            d = np.array((x,y))-lr1*oracle_2(x,y,k)\n",
    "            meta_grad += oracle_2(d[0],d[1],k)*np.array([1-lr1*2*(y-k),1-lr1*2])\n",
    "#         return(meta_grad)\n",
    "        x,y=np.array((x,y))-lr2*meta_grad\n",
    "        xs.append(x)\n",
    "        ys.append(y)\n",
    "    return([xs,ys])"
   ]
  },
  {
   "cell_type": "code",
   "execution_count": null,
   "metadata": {},
   "outputs": [],
   "source": [
    "list_k = [6,7] \n",
    "list_k_1 = [3,4]\n",
    "list_k_2 = [4.5,5]\n",
    "\n",
    "for i in range(4):\n",
    "    for j in range(4):\n",
    "            z = Competitive_MAML(3+i/2,j/2,0.01,0.01)\n",
    "            plt.scatter(np.array(list_k),np.array(list_k),marker='x',color='black')\n",
    "            plt.scatter(np.array(list_k_1),np.array(list_k_1),marker='x',color='blue')\n",
    "            plt.scatter(np.array(list_k_2),np.array(list_k_2),marker='x',color='green')\n",
    "\n",
    "            plt.scatter(3+i/2,j/2,color='red')\n",
    "            plt.plot(z[0],z[1],color = 'orange')\n",
    "            \n",
    "\n",
    "for k in list_k:  \n",
    "    x = z[0][-1]\n",
    "    y = z[1][-1]\n",
    "    itx = [x]\n",
    "    ity = [y]\n",
    "    for i in range(10):\n",
    "        x,y = np.array((x,y))-lr1*oracle(x,y,k)\n",
    "        itx.append(x)\n",
    "        ity.append(y)\n",
    "    plt.plot(itx,ity,color='black')  \n",
    "\n",
    "for k in list_k_1:  \n",
    "    x = z[0][-1]\n",
    "    y = z[1][-1]\n",
    "    itx = [x]\n",
    "    ity = [y]\n",
    "    for i in range(10):\n",
    "        x,y = np.array((x,y))-lr1*oracle_1(x,y,k)\n",
    "        itx.append(x)\n",
    "        ity.append(y)\n",
    "    plt.plot(itx,ity,color='blue')    \n",
    "\n",
    "for k in list_k_2:  \n",
    "    x = z[0][-1]\n",
    "    y = z[1][-1]\n",
    "    itx = [x]\n",
    "    ity = [y]\n",
    "    for i in range(10):\n",
    "        x,y = np.array((x,y))-lr1*oracle_2(x,y,k)\n",
    "        itx.append(x)\n",
    "        ity.append(y)\n",
    "    plt.plot(itx,ity,color='green')   \n",
    "    \n",
    "\n",
    "\n",
    "for l in range(1,3):\n",
    "    for m in range(1,3):\n",
    "        for k in list_k:  \n",
    "            x = l+0.5\n",
    "            y = m+0.5\n",
    "            itx = [x]\n",
    "            ity = [y]\n",
    "            for i in range(10):\n",
    "                x,y = np.array((x,y))-lr1*oracle(x,y,k)\n",
    "                itx.append(x)\n",
    "                ity.append(y)\n",
    "            plt.plot(itx,ity,color='black')  \n",
    "\n",
    "        for k in list_k_1:  \n",
    "            x = l+0.5\n",
    "            y = m+0.5\n",
    "            itx = [x]\n",
    "            ity = [y]\n",
    "            for i in range(10):\n",
    "                x,y = np.array((x,y))-lr1*oracle_1(x,y,k)\n",
    "                itx.append(x)\n",
    "                ity.append(y)\n",
    "            plt.plot(itx,ity,color='blue')    \n",
    "\n",
    "        for k in list_k_2:  \n",
    "            x = l+0.5\n",
    "            y = m+0.5\n",
    "            itx = [x]\n",
    "            ity = [y]\n",
    "            for i in range(10):\n",
    "                x,y = np.array((x,y))-lr1*oracle_2(x,y,k)\n",
    "                itx.append(x)\n",
    "                ity.append(y)\n",
    "            plt.plot(itx,ity,color='green')   \n",
    "\n"
   ]
  },
  {
   "cell_type": "code",
   "execution_count": null,
   "metadata": {},
   "outputs": [],
   "source": []
  }
 ],
 "metadata": {
  "kernelspec": {
   "display_name": "Python 3",
   "language": "python",
   "name": "python3"
  },
  "language_info": {
   "codemirror_mode": {
    "name": "ipython",
    "version": 3
   },
   "file_extension": ".py",
   "mimetype": "text/x-python",
   "name": "python",
   "nbconvert_exporter": "python",
   "pygments_lexer": "ipython3",
   "version": "3.7.4"
  }
 },
 "nbformat": 4,
 "nbformat_minor": 2
}
